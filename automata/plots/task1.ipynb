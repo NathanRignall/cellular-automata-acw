{
 "cells": [
  {
   "cell_type": "code",
   "execution_count": 1,
   "metadata": {},
   "outputs": [],
   "source": [
    "import matplotlib.pyplot as plt\n",
    "import pandas as pd\n",
    "import os\n",
    "import random\n",
    "import numpy as np\n",
    "\n",
    "import matplotlib\n",
    "matplotlib.use(\"pgf\")\n",
    "matplotlib.rcParams.update({\n",
    "    \"pgf.texsystem\": \"pdflatex\",\n",
    "    'font.family': 'serif',\n",
    "    'text.usetex': True,\n",
    "    'pgf.rcfonts': False,\n",
    "})\n",
    "\n",
    "df_1 = pd.read_csv(\"../output/task1-1.csv\")\n",
    "df_1_fill = pd.read_csv(\"../output/task1-1-fill.csv\")\n",
    "df_2 = pd.read_csv(\"../output/task1-2.csv\")\n",
    "df_2_fill = pd.read_csv(\"../output/task1-2-fill.csv\")"
   ]
  },
  {
   "cell_type": "code",
   "execution_count": 2,
   "metadata": {},
   "outputs": [],
   "source": [
    "plt.figure(figsize=(3, 3))\n",
    "plt.plot(df_1['x'], df_1['y'], label='_task1-1', color='gray')\n",
    "plt.plot(df_1['x'][0], df_1['y'][0], 'bx', label='Start', ms=10, mew=2)\n",
    "plt.plot(df_1['x'][len(df_1)-1], df_1['y'][len(df_1)-1], 'rx', label='End', ms=10, mew=2)\n",
    "plt.xlim(25,75)\n",
    "plt.ylim(25,75)\n",
    "plt.grid()\n",
    "plt.margins(0)\n",
    "plt.legend(loc='upper left')\n",
    "plt.savefig(\"../../report/graphics/task1-1.pdf\", bbox_inches='tight')\n",
    "plt.close()"
   ]
  },
  {
   "cell_type": "code",
   "execution_count": 3,
   "metadata": {},
   "outputs": [],
   "source": [
    "plt.figure(figsize=(3, 3))\n",
    "plt.plot(df_2['x'], df_2['y'], label='_task1-2', color='gray')\n",
    "plt.plot(df_2['x'][0], df_2['y'][0], 'bx', label='Start', ms=10, mew=2)\n",
    "plt.plot(df_2['x'][len(df_2)-1], df_2['y'][len(df_2)-1], 'rx', label='End', ms=10, mew=2)\n",
    "plt.xlim(25,75)\n",
    "plt.ylim(25,75)\n",
    "plt.grid()\n",
    "plt.margins(0)\n",
    "plt.legend(loc='upper left')\n",
    "plt.savefig(\"../../report/graphics/task1-2.pdf\", bbox_inches='tight')\n",
    "plt.close()"
   ]
  },
  {
   "cell_type": "code",
   "execution_count": 4,
   "metadata": {},
   "outputs": [],
   "source": [
    "plt.figure(figsize=(6, 6))\n",
    "plt.plot(df_1_fill['x'], df_1_fill['y'], label='_task1-1-fill', color='gray', rasterized=True)\n",
    "plt.plot(df_1_fill['x'][0], df_1_fill['y'][0], 'bx', label='Start', ms=10, mew=2)\n",
    "plt.plot(df_1_fill['x'][len(df_1_fill)-1], df_1_fill['y'][len(df_1_fill)-1], 'rx', label='End', ms=10, mew=2)\n",
    "plt.grid()\n",
    "plt.margins(0)\n",
    "plt.legend(loc='upper left')\n",
    "plt.savefig(\"../../report/graphics/task1-1-fill.pdf\", bbox_inches='tight')"
   ]
  },
  {
   "cell_type": "code",
   "execution_count": 5,
   "metadata": {},
   "outputs": [],
   "source": [
    "plt.figure(figsize=(6, 6))\n",
    "plt.plot(df_2_fill['x'], df_2_fill['y'], label='_task1-2-fill', color='gray', rasterized=True)\n",
    "plt.plot(df_2_fill['x'][0], df_2_fill['y'][0], 'bx', label='Start', ms=10, mew=2)\n",
    "plt.plot(df_2_fill['x'][len(df_2_fill)-1], df_2_fill['y'][len(df_2_fill)-1], 'rx', label='End', ms=10, mew=2)\n",
    "plt.grid()\n",
    "plt.margins(0)\n",
    "plt.legend(loc='upper left')\n",
    "plt.savefig(\"../../report/graphics/task1-2-fill.pdf\", bbox_inches='tight')\n",
    "plt.close()\n"
   ]
  },
  {
   "cell_type": "code",
   "execution_count": 6,
   "metadata": {},
   "outputs": [],
   "source": [
    "# Load all .csv file\n",
    "data = {}\n",
    "for file in os.listdir(\"../output/bulk\"):\n",
    "    if file.endswith(\".csv\"):\n",
    "        name = file.split(\".\")[0]\n",
    "        record = {}\n",
    "        record[\"df\"] = pd.read_csv(f\"../output/bulk/{file}\")\n",
    "        record[\"avg_length\"] = record[\"df\"][\"length\"].mean()\n",
    "        record[\"avg_time\"] = record[\"df\"][\"time\"].mean()\n",
    "\n",
    "        record[\"diagonal\"] = name[6:7] == \"2\"\n",
    "        record[\"start-x\"] = int(name[8:10])\n",
    "        record[\"start-y\"] = int(name[11:13])\n",
    "        record[\"end-x\"] = int(name[15:17])\n",
    "        record[\"end-y\"] = int(name[18:20])\n",
    "        record[\"distance\"] = ((record[\"end-x\"] - record[\"start-x\"])**2 + (record[\"end-y\"] - record[\"start-y\"])**2)**0.5\n",
    "\n",
    "        data[name] = record"
   ]
  },
  {
   "cell_type": "code",
   "execution_count": 7,
   "metadata": {},
   "outputs": [],
   "source": [
    "# separate the data into diagonal and non-diagonal\n",
    "diagonal_data = []\n",
    "non_diagonal_data = []\n",
    "\n",
    "for name, info in data.items():\n",
    "    if info[\"diagonal\"]:\n",
    "        diagonal_data.append(info)\n",
    "    else:\n",
    "        non_diagonal_data.append(info)\n",
    "\n",
    "# sort the data by distance\n",
    "diagonal_data.sort(key=lambda x: x[\"distance\"])\n",
    "non_diagonal_data.sort(key=lambda x: x[\"distance\"])\n",
    "\n",
    "plt.figure(figsize=(8, 2))\n",
    "plt.plot([x[\"distance\"] for x in non_diagonal_data], [x[\"avg_length\"] for x in non_diagonal_data], label=\"Square (steps)\", color='blue')\n",
    "plt.plot([x[\"distance\"] for x in diagonal_data], [x[\"avg_length\"] for x in diagonal_data], label=\"Diagonal (steps)\", color='red')\n",
    "plt.xlabel(\"Path length\")\n",
    "plt.ylabel(\"Average simulation steps\")\n",
    "plt.ylim(0, 50000)\n",
    "plt.legend()\n",
    "\n",
    "# plot time on opposite axis\n",
    "plt.twinx()\n",
    "\n",
    "plt.plot([x[\"distance\"] for x in non_diagonal_data], [x[\"avg_time\"] for x in non_diagonal_data], label=\"Square (time)\", color='blue', linestyle='--')\n",
    "plt.plot([x[\"distance\"] for x in diagonal_data], [x[\"avg_time\"] for x in diagonal_data], label=\"Diagonal (time)\", color='red', linestyle='--')\n",
    "plt.ylabel(\"Average simulation time ($\\mu s$)\")\n",
    "plt.ylim(0, 5000)\n",
    "\n",
    "plt.margins(0)\n",
    "plt.legend()\n",
    "plt.savefig(\"../../report/graphics/task1-compare.pdf\", bbox_inches='tight')"
   ]
  },
  {
   "cell_type": "code",
   "execution_count": 8,
   "metadata": {},
   "outputs": [
    {
     "name": "stdout",
     "output_type": "stream",
     "text": [
      "Average steps factor: 0.7393451245144123\n",
      "Average time factor: 2.143568060901476\n"
     ]
    }
   ],
   "source": [
    "# calculate the multiplication factor between diagonal and non-diagonal\n",
    "factor_length = []\n",
    "for i in range(len(diagonal_data)):\n",
    "    factor_length.append(diagonal_data[i][\"avg_length\"] / non_diagonal_data[i][\"avg_length\"])\n",
    "\n",
    "factor_time = []\n",
    "for i in range(len(diagonal_data)):\n",
    "    factor_time.append(diagonal_data[i][\"avg_time\"] / non_diagonal_data[i][\"avg_time\"])\n",
    "\n",
    "factor_length_avg = np.mean(factor_length)\n",
    "factor_time_avg = np.mean(factor_time)\n",
    "\n",
    "print(f\"Average steps factor: {factor_length_avg}\")\n",
    "print(f\"Average time factor: {factor_time_avg}\")\n",
    "\n",
    "plt.figure(figsize=(8, 2))\n",
    "plt.plot([x[\"distance\"] for x in diagonal_data], factor_length, label=\"_Steps factor\", color='gray')\n",
    "plt.plot([x[\"distance\"] for x in diagonal_data], factor_time, label=\"_Time factor\", color='gray')\n",
    "plt.axhline(y=factor_length_avg, color='red', linestyle='--', label=f\"Average steps  \")\n",
    "plt.axhline(y=factor_time_avg, color='blue', linestyle='--', label=f\"Average time factor\")\n",
    "plt.ylabel(\"Diagonal / Square\")\n",
    "plt.xlabel(\"Path length\")\n",
    "plt.ylim(0, 2.5)\n",
    "plt.legend(loc='center right')\n",
    "plt.savefig(\"../../report/graphics/task1-factor-length.pdf\", bbox_inches='tight')"
   ]
  },
  {
   "cell_type": "code",
   "execution_count": 9,
   "metadata": {},
   "outputs": [],
   "source": [
    "# select a random data\n",
    "index = random.choice(range(len(diagonal_data)))\n",
    "diagonal_selected = diagonal_data[index]\n",
    "non_diagonal_selected = non_diagonal_data[index]"
   ]
  },
  {
   "cell_type": "code",
   "execution_count": 10,
   "metadata": {},
   "outputs": [
    {
     "name": "stdout",
     "output_type": "stream",
     "text": [
      "38835.0556\n",
      "27869.1602\n",
      "Non Diagonal - (42, 28) - (29, 74)\n",
      "Diagonal - (42, 28) - (29, 74)\n"
     ]
    }
   ],
   "source": [
    "# calculate the average length of the path\n",
    "avg_length_1a = non_diagonal_selected[\"df\"]['length'].mean()\n",
    "avg_time_1a = non_diagonal_selected[\"df\"]['time'].mean()\n",
    "avg_length_2a = diagonal_selected[\"df\"]['length'].mean()\n",
    "avg_time_2a = diagonal_selected[\"df\"]['time'].mean()\n",
    "print(avg_length_1a)\n",
    "print(avg_length_2a)\n",
    "print(f\"Non Diagonal - ({non_diagonal_selected['start-x']}, {non_diagonal_selected['start-y']}) - ({non_diagonal_selected['end-x']}, {non_diagonal_selected['end-y']})\")\n",
    "print(f\"Diagonal - ({diagonal_selected['start-x']}, {diagonal_selected['start-y']}) - ({diagonal_selected['end-x']}, {diagonal_selected['end-y']})\")\n",
    "plt.figure(figsize=(8, 3))\n",
    "plt.plot(non_diagonal_selected[\"df\"]['length'], color='dimgray', label='Square')\n",
    "plt.plot(diagonal_selected[\"df\"]['length'], color='lightgray', label='Diagonal')\n",
    "plt.plot([0, non_diagonal_selected[\"df\"]['length'].count()], [avg_length_1a, avg_length_1a], color='blue', label='Square (Avg)')\n",
    "plt.plot([0, diagonal_selected[\"df\"]['length'].count()], [avg_length_2a, avg_length_2a], color='red', label='Diagonal (Avg)')\n",
    "plt.ylim(0, 500000)\n",
    "plt.margins(0)\n",
    "plt.legend(loc='upper left')\n",
    "plt.xlabel(\"Simualtion iteration\")\n",
    "plt.ylabel(\"Simulation steps\")\n",
    "plt.savefig(\"../../report/graphics/task1-compare-single.pdf\", bbox_inches='tight')"
   ]
  },
  {
   "cell_type": "code",
   "execution_count": 11,
   "metadata": {},
   "outputs": [
    {
     "name": "stdout",
     "output_type": "stream",
     "text": [
      "Non Diagonal - (42, 28) - (29, 74)\n"
     ]
    }
   ],
   "source": [
    "# calculate the mean at each step\n",
    "rolling_length_1a = []\n",
    "for i in range(1, non_diagonal_selected[\"df\"]['length'].count()):\n",
    "    rolling_length_1a.append(non_diagonal_selected[\"df\"][:i]['length'].mean())\n",
    "rolling_time_1a = []\n",
    "for i in range(1, non_diagonal_selected[\"df\"]['time'].count()):\n",
    "    rolling_time_1a.append(non_diagonal_selected[\"df\"][:i]['time'].mean())\n",
    "\n",
    "print(f\"Non Diagonal - ({non_diagonal_selected['start-x']}, {non_diagonal_selected['start-y']}) - ({non_diagonal_selected['end-x']}, {non_diagonal_selected['end-y']})\")\n",
    "\n",
    "plt.figure(figsize=(8, 2))\n",
    "plt.plot(rolling_length_1a, color='dimgray', label='_Square')\n",
    "plt.plot([0, non_diagonal_selected[\"df\"]['length'].count()], [avg_length_1a, avg_length_1a], label='Average simulation steps', color='red', linestyle='--')\n",
    "plt.text(non_diagonal_selected[\"df\"]['length'].count() - 100, avg_length_1a - 5000, f'{avg_length_1a:.2f}', ha='right')\n",
    "plt.ylabel(\"Average simulation steps\")\n",
    "plt.xlabel(\"Simulation iteration\")\n",
    "\n",
    "plt.ylim(0, 80000)\n",
    "\n",
    "plt.twinx()\n",
    "plt.plot(rolling_time_1a, color='lightgray', label='_Square')\n",
    "plt.plot([0, non_diagonal_selected[\"df\"]['time'].count()], [avg_time_1a, avg_time_1a], label='Average simulation time', color='blue', linestyle='--')\n",
    "plt.text(non_diagonal_selected[\"df\"]['time'].count() - 100, avg_time_1a - 500, f'{avg_time_1a:.2f}', ha='right')\n",
    "plt.ylabel(\"Average simulation time ($\\mu s$)\")\n",
    "plt.ylim(0, 8000)\n",
    "\n",
    "# plt.margins(0)\n",
    "plt.legend(handles=[matplotlib.lines.Line2D([0], [0], color='red', label='Average steps'),\n",
    "                    matplotlib.lines.Line2D([0], [0], color='blue', label='Average time')], loc='upper right')\n",
    "\n",
    "plt.savefig(\"../../report/graphics/task1-compare-square-roll.pdf\", bbox_inches='tight')"
   ]
  },
  {
   "cell_type": "code",
   "execution_count": 12,
   "metadata": {},
   "outputs": [
    {
     "name": "stdout",
     "output_type": "stream",
     "text": [
      "Diagonal - (42, 28) - (29, 74)\n"
     ]
    }
   ],
   "source": [
    "# calculate the mean at each step\n",
    "rolling_length_2a = []\n",
    "for i in range(1, diagonal_selected[\"df\"]['length'].count()):\n",
    "    rolling_length_2a.append(diagonal_selected[\"df\"][:i]['length'].mean())\n",
    "rolling_time_2a = []\n",
    "for i in range(1, diagonal_selected[\"df\"]['time'].count()):\n",
    "    rolling_time_2a.append(diagonal_selected[\"df\"][:i]['time'].mean())\n",
    "\n",
    "print(f\"Diagonal - ({diagonal_selected['start-x']}, {diagonal_selected['start-y']}) - ({diagonal_selected['end-x']}, {diagonal_selected['end-y']})\")\n",
    "\n",
    "plt.figure(figsize=(8, 2))\n",
    "plt.plot(rolling_length_2a, color='dimgray', label='_Diagonal')\n",
    "plt.plot([0, diagonal_selected[\"df\"]['length'].count()], [avg_length_2a, avg_length_2a], label='Average simulation steps', color='red', linestyle='--')\n",
    "plt.text(diagonal_selected[\"df\"]['length'].count() - 1000, avg_length_2a + 1000, \"{:.3f}\".format(avg_length_2a))\n",
    "plt.ylabel(\"Average simulation steps\")\n",
    "plt.xlabel(\"Simulation iteration\")\n",
    "\n",
    "plt.ylim(0, 80000)\n",
    "\n",
    "plt.twinx()\n",
    "\n",
    "plt.plot(rolling_time_2a, color='lightgray', label='_Diagonal')\n",
    "plt.plot([0, diagonal_selected[\"df\"]['time'].count()], [avg_time_2a, avg_time_2a], label='Average simulation time', color='blue', linestyle='--')\n",
    "plt.text(diagonal_selected[\"df\"]['time'].count() - 1000, avg_time_2a + 100, \"{:.3f}\".format(avg_time_2a))\n",
    "plt.ylabel(\"Average simulation time ($\\mu s$)\")\n",
    "plt.ylim(0, 8000)\n",
    "\n",
    "# plt.margins(0)\n",
    "plt.legend(handles=[matplotlib.lines.Line2D([0], [0], color='red', linestyle='--', label='Average steps'),\n",
    "                    matplotlib.lines.Line2D([0], [0], color='blue', linestyle='--', label='Average time')], loc='upper right')\n",
    "\n",
    "\n",
    "plt.savefig(\"../../report/graphics/task1-compare-diagonal-roll.pdf\", bbox_inches='tight')"
   ]
  },
  {
   "cell_type": "code",
   "execution_count": 13,
   "metadata": {},
   "outputs": [
    {
     "name": "stdout",
     "output_type": "stream",
     "text": [
      "878328 3413832\n"
     ]
    }
   ],
   "source": [
    "# open visited data\n",
    "visited = pd.read_csv(\"../output/task1-visited.csv\")\n",
    "visited_np = visited.pivot(index='y', columns='x', values='count').to_numpy()\n",
    "visited_diagonal = pd.read_csv(\"../output/task1-visited-diagonal.csv\")\n",
    "visited_diagonal_np = visited_diagonal.pivot(index='y', columns='x', values='count').to_numpy()\n",
    "\n",
    "# get the minimum and maximum value for color normalization, which is the minimum and maximum value of the visited count\n",
    "min_val = min(visited['count'].min(), visited_diagonal['count'].min())\n",
    "max_val = max(visited['count'].max(), visited_diagonal['count'].max())\n",
    "\n",
    "print(min_val, max_val)"
   ]
  },
  {
   "cell_type": "code",
   "execution_count": 14,
   "metadata": {},
   "outputs": [],
   "source": [
    "# plot the visited data\n",
    "plt.figure(figsize=(4, 4))\n",
    "plt.imshow(visited_np, cmap='hot')\n",
    "plt.xlim(-10, 110)\n",
    "plt.ylim(-10, 110)\n",
    "plt.clim(min_val, max_val)\n",
    "plt.colorbar(fraction=0.046, pad=0.04)\n",
    "plt.savefig(\"../../report/graphics/task1-visited-square.pdf\", bbox_inches='tight')\n",
    "plt.close()"
   ]
  },
  {
   "cell_type": "code",
   "execution_count": 15,
   "metadata": {},
   "outputs": [],
   "source": [
    "# plot the visited data\n",
    "plt.figure(figsize=(4, 4))\n",
    "plt.imshow(visited_diagonal_np, cmap='hot')\n",
    "plt.xlim(-10, 110)\n",
    "plt.ylim(-10, 110)\n",
    "plt.clim(min_val, max_val)\n",
    "plt.colorbar(fraction=0.046, pad=0.04)\n",
    "plt.savefig(\"../../report/graphics/task1-visited-diagonal.pdf\", bbox_inches='tight')\n",
    "plt.close()"
   ]
  },
  {
   "cell_type": "code",
   "execution_count": 16,
   "metadata": {},
   "outputs": [],
   "source": [
    "# do the difference between the two visited data\n",
    "visited_diff_np = visited_diagonal_np - visited_np\n",
    "plt.figure(figsize=(4, 4))\n",
    "plt.imshow(visited_diff_np, cmap='hot', interpolation='nearest')\n",
    "plt.xlim(-10, 110)\n",
    "plt.ylim(-10, 110)\n",
    "plt.colorbar(fraction=0.046, pad=0.04)\n",
    "plt.savefig(\"../../report/graphics/task1-visited-diff.pdf\", bbox_inches='tight')\n",
    "plt.close()"
   ]
  },
  {
   "cell_type": "code",
   "execution_count": 17,
   "metadata": {},
   "outputs": [],
   "source": [
    "# Load all .csv file\n",
    "data = {}\n",
    "for file in os.listdir(\"../output/bulk-g\"):\n",
    "    if file.endswith(\".csv\"):\n",
    "        name = file.split(\".\")[0]\n",
    "        record = {}\n",
    "        record[\"df\"] = pd.read_csv(f\"../output/bulk-g/{file}\")\n",
    "        record[\"avg_length\"] = record[\"df\"][\"length\"].mean()\n",
    "        record[\"avg_time\"] = record[\"df\"][\"time\"].mean()\n",
    "\n",
    "        record[\"diagonal\"] = name[6:7] == \"2\"\n",
    "        record[\"grid\"] = int(name[8:11]) ** 2\n",
    "\n",
    "        data[name] = record"
   ]
  },
  {
   "cell_type": "code",
   "execution_count": 18,
   "metadata": {},
   "outputs": [],
   "source": [
    "# separate the data into diagonal and non-diagonal\n",
    "diagonal_data = []\n",
    "non_diagonal_data = []\n",
    "\n",
    "for name, info in data.items():\n",
    "    if info[\"diagonal\"]:\n",
    "        diagonal_data.append(info)\n",
    "    else:\n",
    "        non_diagonal_data.append(info)\n",
    "\n",
    "# sort the data by grid\n",
    "diagonal_data.sort(key=lambda x: x[\"grid\"])\n",
    "non_diagonal_data.sort(key=lambda x: x[\"grid\"])\n",
    "\n",
    "def quadratic_func(x, a, b, c):\n",
    "    return a * x**2 + b * x + c\n",
    "\n",
    "\n",
    "from scipy.optimize import curve_fit\n",
    "\n",
    "diagonal_x = [x[\"grid\"] for x in diagonal_data]\n",
    "diagonal_y = [x[\"avg_length\"] for x in diagonal_data]\n",
    "diagonal_t = [x[\"avg_time\"] for x in diagonal_data]\n",
    "\n",
    "non_diagonal_x = [x[\"grid\"] for x in non_diagonal_data]\n",
    "non_diagonal_y = [x[\"avg_length\"] for x in non_diagonal_data]\n",
    "non_diagonal_t = [x[\"avg_time\"] for x in non_diagonal_data]\n",
    "\n",
    "diagonal_popt, diagonal_pcov = curve_fit(quadratic_func, diagonal_x, diagonal_y)\n",
    "diagonal_popt_t, diagonal_pcov_t = curve_fit(quadratic_func, diagonal_x, diagonal_t)\n",
    "\n",
    "non_diagonal_popt, non_diagonal_pcov = curve_fit(quadratic_func, non_diagonal_x, non_diagonal_y)\n",
    "non_diagonal_popt_t, non_diagonal_pcov_t = curve_fit(quadratic_func, non_diagonal_x, non_diagonal_t)\n",
    "\n",
    "plt.figure(figsize=(8, 3))\n",
    "plt.plot([x[\"grid\"] for x in non_diagonal_data], [x[\"avg_length\"] for x in non_diagonal_data], label=\"Square (steps)\", color='blue')\n",
    "plt.plot([x[\"grid\"] for x in diagonal_data], [x[\"avg_length\"] for x in diagonal_data], label=\"Diagonal (steps)\", color='red')\n",
    "plt.plot([x[\"grid\"] for x in diagonal_data], [quadratic_func(x[\"grid\"], *diagonal_popt) for x in diagonal_data], label=\"_Diagonal (fit)\", color='black', linestyle='--')\n",
    "plt.plot([x[\"grid\"] for x in non_diagonal_data], [quadratic_func(x[\"grid\"], *non_diagonal_popt) for x in non_diagonal_data], label=\"Best fit (steps)\", color='black', linestyle='--')\n",
    "\n",
    "# put equation\n",
    "plt.text(0.3, 0.9, f'$y = {diagonal_popt[0]:.4g}x^2 + {diagonal_popt[1]:.4g}x {diagonal_popt[2]:.4g}$', transform=plt.gca().transAxes)\n",
    "plt.text(0.3, 0.8, f'$y = {non_diagonal_popt[0]:.4g}x^2 + {non_diagonal_popt[1]:.4g}x {non_diagonal_popt[2]:.4g}$', transform=plt.gca().transAxes)\n",
    "\n",
    "# plt.yscale('log')\n",
    "plt.xlabel(\"Grid area\")\n",
    "plt.ylabel(\"Average simulation steps\")\n",
    "plt.ylim(0, 500000)\n",
    "plt.legend(loc='upper left')\n",
    "\n",
    "# plot time on opposite axis\n",
    "plt.twinx()\n",
    "\n",
    "plt.plot([x[\"grid\"] for x in non_diagonal_data], [x[\"avg_time\"] for x in non_diagonal_data], label=\"Square (time)\", color='blue', linestyle='--')\n",
    "plt.plot([x[\"grid\"] for x in diagonal_data], [x[\"avg_time\"] for x in diagonal_data], label=\"Diagonal (time)\", color='red', linestyle='--')\n",
    "# plt.semilogx([x[\"grid\"] for x in diagonal_data], [quadratic_func(x[\"grid\"], *diagonal_popt_t) for x in diagonal_data], label=\"Diagonal (fit)\", color='green', linestyle='--')\n",
    "# plt.semilogx([x[\"grid\"] for x in non_diagonal_data], [quadratic_func(x[\"grid\"], *non_diagonal_popt_t) for x in non_diagonal_data], label=\"Square (fit)\", color='green', linestyle='--')\n",
    "# plt.yscale('log')\n",
    "plt.ylabel(\"Average simulation time ($\\mu s$)\")\n",
    "plt.ylim(0, 500000)\n",
    "\n",
    "plt.margins(0)\n",
    "plt.legend(loc='center left')\n",
    "plt.savefig(\"../../report/graphics/task1-compare-grid.pdf\", bbox_inches='tight')"
   ]
  }
 ],
 "metadata": {
  "kernelspec": {
   "display_name": "uni-ml",
   "language": "python",
   "name": "python3"
  },
  "language_info": {
   "codemirror_mode": {
    "name": "ipython",
    "version": 3
   },
   "file_extension": ".py",
   "mimetype": "text/x-python",
   "name": "python",
   "nbconvert_exporter": "python",
   "pygments_lexer": "ipython3",
   "version": "3.10.2"
  }
 },
 "nbformat": 4,
 "nbformat_minor": 2
}
