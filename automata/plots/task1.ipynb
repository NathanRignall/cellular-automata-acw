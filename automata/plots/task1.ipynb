{
 "cells": [
  {
   "cell_type": "code",
   "execution_count": 41,
   "metadata": {},
   "outputs": [],
   "source": [
    "import matplotlib.pyplot as plt\n",
    "import pandas as pd\n",
    "import os\n",
    "import random\n",
    "import numpy as np\n",
    "\n",
    "import matplotlib\n",
    "matplotlib.use(\"pgf\")\n",
    "matplotlib.rcParams.update({\n",
    "    \"pgf.texsystem\": \"pdflatex\",\n",
    "    'font.family': 'serif',\n",
    "    'text.usetex': True,\n",
    "    'pgf.rcfonts': False,\n",
    "})\n",
    "\n",
    "df_1 = pd.read_csv(\"../output/task1-1.csv\")\n",
    "df_1_fill = pd.read_csv(\"../output/task1-1-fill.csv\")\n",
    "df_2 = pd.read_csv(\"../output/task1-2.csv\")\n",
    "df_2_fill = pd.read_csv(\"../output/task1-2-fill.csv\")"
   ]
  },
  {
   "cell_type": "code",
   "execution_count": 42,
   "metadata": {},
   "outputs": [
    {
     "name": "stderr",
     "output_type": "stream",
     "text": [
      "/var/folders/y0/2k6mgl4x5_db4cbjlvjsc0jw0000gn/T/ipykernel_69492/2402770086.py:1: RuntimeWarning: More than 20 figures have been opened. Figures created through the pyplot interface (`matplotlib.pyplot.figure`) are retained until explicitly closed and may consume too much memory. (To control this warning, see the rcParam `figure.max_open_warning`). Consider using `matplotlib.pyplot.close()`.\n",
      "  plt.figure(figsize=(3, 3))\n"
     ]
    }
   ],
   "source": [
    "plt.figure(figsize=(3, 3))\n",
    "plt.plot(df_1['x'], df_1['y'], label='_task1-1', color='gray')\n",
    "plt.plot(df_1['x'][0], df_1['y'][0], 'bx', label='Start', ms=10, mew=2)\n",
    "plt.plot(df_1['x'][len(df_1)-1], df_1['y'][len(df_1)-1], 'rx', label='End', ms=10, mew=2)\n",
    "plt.xlim(25,75)\n",
    "plt.ylim(25,75)\n",
    "plt.grid()\n",
    "plt.margins(0)\n",
    "plt.legend(loc='upper left')\n",
    "plt.savefig(\"../../report/graphics/task1-1.pdf\", bbox_inches='tight')\n",
    "plt.close()"
   ]
  },
  {
   "cell_type": "code",
   "execution_count": 43,
   "metadata": {},
   "outputs": [
    {
     "name": "stderr",
     "output_type": "stream",
     "text": [
      "/var/folders/y0/2k6mgl4x5_db4cbjlvjsc0jw0000gn/T/ipykernel_69492/1427825722.py:1: RuntimeWarning: More than 20 figures have been opened. Figures created through the pyplot interface (`matplotlib.pyplot.figure`) are retained until explicitly closed and may consume too much memory. (To control this warning, see the rcParam `figure.max_open_warning`). Consider using `matplotlib.pyplot.close()`.\n",
      "  plt.figure(figsize=(3, 3))\n"
     ]
    }
   ],
   "source": [
    "plt.figure(figsize=(3, 3))\n",
    "plt.plot(df_2['x'], df_2['y'], label='_task1-2', color='gray')\n",
    "plt.plot(df_2['x'][0], df_2['y'][0], 'bx', label='Start', ms=10, mew=2)\n",
    "plt.plot(df_2['x'][len(df_2)-1], df_2['y'][len(df_2)-1], 'rx', label='End', ms=10, mew=2)\n",
    "plt.xlim(25,75)\n",
    "plt.ylim(25,75)\n",
    "plt.grid()\n",
    "plt.margins(0)\n",
    "plt.legend(loc='upper left')\n",
    "plt.savefig(\"../../report/graphics/task1-2.pdf\", bbox_inches='tight')\n",
    "plt.close()"
   ]
  },
  {
   "cell_type": "code",
   "execution_count": 44,
   "metadata": {},
   "outputs": [
    {
     "name": "stderr",
     "output_type": "stream",
     "text": [
      "/var/folders/y0/2k6mgl4x5_db4cbjlvjsc0jw0000gn/T/ipykernel_69492/1028110488.py:1: RuntimeWarning: More than 20 figures have been opened. Figures created through the pyplot interface (`matplotlib.pyplot.figure`) are retained until explicitly closed and may consume too much memory. (To control this warning, see the rcParam `figure.max_open_warning`). Consider using `matplotlib.pyplot.close()`.\n",
      "  plt.figure(figsize=(6, 6))\n"
     ]
    }
   ],
   "source": [
    "plt.figure(figsize=(6, 6))\n",
    "plt.plot(df_1_fill['x'], df_1_fill['y'], label='_task1-1-fill', color='gray', rasterized=True)\n",
    "plt.plot(df_1_fill['x'][0], df_1_fill['y'][0], 'bx', label='Start', ms=10, mew=2)\n",
    "plt.plot(df_1_fill['x'][len(df_1_fill)-1], df_1_fill['y'][len(df_1_fill)-1], 'rx', label='End', ms=10, mew=2)\n",
    "plt.grid()\n",
    "plt.margins(0)\n",
    "plt.legend(loc='upper left')\n",
    "plt.savefig(\"../../report/graphics/task1-1-fill.pdf\", bbox_inches='tight')"
   ]
  },
  {
   "cell_type": "code",
   "execution_count": 45,
   "metadata": {},
   "outputs": [],
   "source": [
    "plt.figure(figsize=(6, 6))\n",
    "plt.plot(df_2_fill['x'], df_2_fill['y'], label='_task1-2-fill', color='gray', rasterized=True)\n",
    "plt.plot(df_2_fill['x'][0], df_2_fill['y'][0], 'bx', label='Start', ms=10, mew=2)\n",
    "plt.plot(df_2_fill['x'][len(df_2_fill)-1], df_2_fill['y'][len(df_2_fill)-1], 'rx', label='End', ms=10, mew=2)\n",
    "plt.grid()\n",
    "plt.margins(0)\n",
    "plt.legend(loc='upper left')\n",
    "plt.savefig(\"../../report/graphics/task1-2-fill.pdf\", bbox_inches='tight')\n",
    "plt.close()\n"
   ]
  },
  {
   "cell_type": "code",
   "execution_count": 46,
   "metadata": {},
   "outputs": [],
   "source": [
    "# Load all .csv file\n",
    "data = {}\n",
    "for file in os.listdir(\"../output/bulk\"):\n",
    "    if file.endswith(\".csv\"):\n",
    "        name = file.split(\".\")[0]\n",
    "        record = {}\n",
    "        record[\"df\"] = pd.read_csv(f\"../output/bulk/{file}\")\n",
    "        record[\"avg_length\"] = record[\"df\"][\"length\"].mean()\n",
    "        record[\"avg_time\"] = record[\"df\"][\"time\"].mean()\n",
    "\n",
    "        record[\"diagonal\"] = name[6:7] == \"2\"\n",
    "        record[\"start-x\"] = int(name[8:10])\n",
    "        record[\"start-y\"] = int(name[11:13])\n",
    "        record[\"end-x\"] = int(name[15:17])\n",
    "        record[\"end-y\"] = int(name[18:20])\n",
    "        record[\"distance\"] = ((record[\"end-x\"] - record[\"start-x\"])**2 + (record[\"end-y\"] - record[\"start-y\"])**2)**0.5\n",
    "\n",
    "        data[name] = record"
   ]
  },
  {
   "cell_type": "code",
   "execution_count": 47,
   "metadata": {},
   "outputs": [],
   "source": [
    "# separate the data into diagonal and non-diagonal\n",
    "diagonal_data = []\n",
    "non_diagonal_data = []\n",
    "\n",
    "for name, info in data.items():\n",
    "    if info[\"diagonal\"]:\n",
    "        diagonal_data.append(info)\n",
    "    else:\n",
    "        non_diagonal_data.append(info)\n",
    "\n",
    "# sort the data by distance\n",
    "diagonal_data.sort(key=lambda x: x[\"distance\"])\n",
    "non_diagonal_data.sort(key=lambda x: x[\"distance\"])\n",
    "\n",
    "plt.figure(figsize=(8, 3))\n",
    "plt.plot([x[\"distance\"] for x in non_diagonal_data], [x[\"avg_length\"] for x in non_diagonal_data], label=\"Square (steps)\", color='blue')\n",
    "plt.plot([x[\"distance\"] for x in diagonal_data], [x[\"avg_length\"] for x in diagonal_data], label=\"Diagonal (steps)\", color='red')\n",
    "plt.xlabel(\"Path length\")\n",
    "plt.ylabel(\"Average simulation steps\")\n",
    "plt.legend()\n",
    "\n",
    "# plot time on opposite axis\n",
    "plt.twinx()\n",
    "\n",
    "plt.plot([x[\"distance\"] for x in non_diagonal_data], [x[\"avg_time\"] for x in non_diagonal_data], label=\"Square (time)\", color='blue', linestyle='--')\n",
    "plt.plot([x[\"distance\"] for x in diagonal_data], [x[\"avg_time\"] for x in diagonal_data], label=\"Diagonal (time)\", color='red', linestyle='--')\n",
    "plt.ylabel(\"Average simulation time (us)\")\n",
    "plt.ylim(0, 4500)\n",
    "\n",
    "plt.margins(0)\n",
    "plt.legend()\n",
    "plt.savefig(\"../../report/graphics/task1-compare.pdf\", bbox_inches='tight')"
   ]
  },
  {
   "cell_type": "code",
   "execution_count": 48,
   "metadata": {},
   "outputs": [],
   "source": [
    "# calculate the multiplication factor between diagonal and non-diagonal\n",
    "factor_length = []\n",
    "for i in range(len(diagonal_data)):\n",
    "    factor_length.append(diagonal_data[i][\"avg_length\"] / non_diagonal_data[i][\"avg_length\"])\n",
    "\n",
    "factor_time = []\n",
    "for i in range(len(diagonal_data)):\n",
    "    factor_time.append(diagonal_data[i][\"avg_time\"] / non_diagonal_data[i][\"avg_time\"])\n",
    "\n",
    "factor_length_avg = np.mean(factor_length)\n",
    "factor_time_avg = np.mean(factor_time)\n",
    "\n",
    "plt.figure(figsize=(8, 3))\n",
    "plt.plot([x[\"distance\"] for x in diagonal_data], factor_length, label=\"_Steps factor\", color='gray')\n",
    "plt.plot([x[\"distance\"] for x in diagonal_data], factor_time, label=\"_Time factor\", color='gray')\n",
    "plt.axhline(y=factor_length_avg, color='red', linestyle='--', label=f\"Average steps  \")\n",
    "plt.axhline(y=factor_time_avg, color='blue', linestyle='--', label=f\"Average time factor\")\n",
    "plt.ylabel(\"Diagonal / Square\")\n",
    "plt.xlabel(\"Path length\")\n",
    "plt.ylim(0, 2.5)\n",
    "plt.legend(loc='center right')\n",
    "plt.savefig(\"../../report/graphics/task1-factor-length.pdf\", bbox_inches='tight')"
   ]
  },
  {
   "cell_type": "code",
   "execution_count": 49,
   "metadata": {},
   "outputs": [],
   "source": [
    "# select a random data\n",
    "index = random.choice(range(len(diagonal_data)))\n",
    "diagonal_selected = diagonal_data[index]\n",
    "non_diagonal_selected = non_diagonal_data[index]"
   ]
  },
  {
   "cell_type": "code",
   "execution_count": 50,
   "metadata": {},
   "outputs": [
    {
     "name": "stdout",
     "output_type": "stream",
     "text": [
      "37503.707\n",
      "27721.9694\n",
      "Non Diagonal - (58, 51) - (27, 27)\n",
      "Diagonal - (58, 51) - (27, 27)\n"
     ]
    }
   ],
   "source": [
    "# calculate the average length of the path\n",
    "avg_length_1a = non_diagonal_selected[\"df\"]['length'].mean()\n",
    "avg_length_2a = diagonal_selected[\"df\"]['length'].mean()\n",
    "print(avg_length_1a)\n",
    "print(avg_length_2a)\n",
    "print(f\"Non Diagonal - ({non_diagonal_selected['start-x']}, {non_diagonal_selected['start-y']}) - ({non_diagonal_selected['end-x']}, {non_diagonal_selected['end-y']})\")\n",
    "print(f\"Diagonal - ({diagonal_selected['start-x']}, {diagonal_selected['start-y']}) - ({diagonal_selected['end-x']}, {diagonal_selected['end-y']})\")\n",
    "plt.figure(figsize=(8, 3))\n",
    "plt.plot(non_diagonal_selected[\"df\"]['length'], color='dimgray', label='Square')\n",
    "plt.plot(diagonal_selected[\"df\"]['length'], color='lightgray', label='Diagonal')\n",
    "plt.plot([0, non_diagonal_selected[\"df\"]['length'].count()], [avg_length_1a, avg_length_1a], color='blue', label='Square (Avg)')\n",
    "plt.plot([0, diagonal_selected[\"df\"]['length'].count()], [avg_length_2a, avg_length_2a], color='red', label='Diagonal (Avg)')\n",
    "plt.ylim(0, 500000)\n",
    "plt.margins(0)\n",
    "plt.legend(loc='upper left')\n",
    "plt.xlabel(\"Simualtion iteration\")\n",
    "plt.ylabel(\"Simulation steps\")\n",
    "plt.savefig(\"../../report/graphics/task1-compare-single.pdf\", bbox_inches='tight')"
   ]
  },
  {
   "cell_type": "code",
   "execution_count": 51,
   "metadata": {},
   "outputs": [
    {
     "name": "stdout",
     "output_type": "stream",
     "text": [
      "Non Diagonal - (58, 51) - (27, 27)\n"
     ]
    }
   ],
   "source": [
    "# calculate the mean at each step\n",
    "rolling_length_1a = []\n",
    "for i in range(1, non_diagonal_selected[\"df\"]['length'].count()):\n",
    "    rolling_length_1a.append(non_diagonal_selected[\"df\"][:i]['length'].mean())\n",
    "plt.figure(figsize=(8, 3))\n",
    "plt.plot(rolling_length_1a, color='gray', label='Square')\n",
    "plt.plot([0, non_diagonal_selected[\"df\"]['length'].count()], [avg_length_1a, avg_length_1a], label='average path length', color='red')\n",
    "plt.text(non_diagonal_selected[\"df\"]['length'].count() - 10000, avg_length_1a + 1000, f'{avg_length_1a:.2f}', ha='right')\n",
    "print(f\"Non Diagonal - ({non_diagonal_selected['start-x']}, {non_diagonal_selected['start-y']}) - ({non_diagonal_selected['end-x']}, {non_diagonal_selected['end-y']})\")\n",
    "# plt.margins(0)\n",
    "plt.legend(loc='upper right')\n",
    "plt.xlabel(\"Simulation iteration\")\n",
    "plt.ylabel(\"Average simulation steps (rolling)\")\n",
    "plt.savefig(\"../../report/graphics/task1-compare-square-roll.pdf\", bbox_inches='tight')"
   ]
  },
  {
   "cell_type": "code",
   "execution_count": 52,
   "metadata": {},
   "outputs": [
    {
     "name": "stdout",
     "output_type": "stream",
     "text": [
      "Diagonal - (58, 51) - (27, 27)\n"
     ]
    }
   ],
   "source": [
    "# calculate the mean at each step\n",
    "rolling_length_2a = []\n",
    "for i in range(1, diagonal_selected[\"df\"]['length'].count()):\n",
    "    rolling_length_2a.append(diagonal_selected[\"df\"][:i]['length'].mean())\n",
    "plt.figure(figsize=(8, 3))\n",
    "plt.plot(rolling_length_2a, color='gray', label='Diagonal')\n",
    "plt.plot([0, diagonal_selected[\"df\"]['length'].count()], [avg_length_2a, avg_length_2a], label='average path length', color='red')\n",
    "plt.text(diagonal_selected[\"df\"]['length'].count() - 10000, avg_length_2a + 1000, \"{:.3f}\".format(avg_length_2a))\n",
    "print(f\"Diagonal - ({diagonal_selected['start-x']}, {diagonal_selected['start-y']}) - ({diagonal_selected['end-x']}, {diagonal_selected['end-y']})\")\n",
    "# plt.margins(0)\n",
    "plt.legend(loc='upper right')\n",
    "plt.xlabel(\"Simulation iteration\")\n",
    "plt.ylabel(\"Average simulation steps (rolling)\")\n",
    "plt.savefig(\"../../report/graphics/task1-compare-diagonal-roll.pdf\", bbox_inches='tight')"
   ]
  },
  {
   "cell_type": "code",
   "execution_count": 53,
   "metadata": {},
   "outputs": [
    {
     "name": "stdout",
     "output_type": "stream",
     "text": [
      "878328 3413832\n"
     ]
    }
   ],
   "source": [
    "# open visited data\n",
    "visited = pd.read_csv(\"../output/task1-visited.csv\")\n",
    "visited_np = visited.pivot(index='y', columns='x', values='count').to_numpy()\n",
    "visited_diagonal = pd.read_csv(\"../output/task1-visited-diagonal.csv\")\n",
    "visited_diagonal_np = visited_diagonal.pivot(index='y', columns='x', values='count').to_numpy()\n",
    "\n",
    "# get the minimum and maximum value for color normalization, which is the minimum and maximum value of the visited count\n",
    "min_val = min(visited['count'].min(), visited_diagonal['count'].min())\n",
    "max_val = max(visited['count'].max(), visited_diagonal['count'].max())\n",
    "\n",
    "print(min_val, max_val)"
   ]
  },
  {
   "cell_type": "code",
   "execution_count": 54,
   "metadata": {},
   "outputs": [],
   "source": [
    "# plot the visited data\n",
    "plt.figure(figsize=(4, 4))\n",
    "plt.imshow(visited_np, cmap='hot')\n",
    "plt.xlim(-10, 110)\n",
    "plt.ylim(-10, 110)\n",
    "plt.clim(min_val, max_val)\n",
    "plt.colorbar(fraction=0.046, pad=0.04)\n",
    "plt.savefig(\"../../report/graphics/task1-visited-square.pdf\", bbox_inches='tight')\n",
    "plt.close()"
   ]
  },
  {
   "cell_type": "code",
   "execution_count": 55,
   "metadata": {},
   "outputs": [],
   "source": [
    "# plot the visited data\n",
    "plt.figure(figsize=(4, 4))\n",
    "plt.imshow(visited_diagonal_np, cmap='hot')\n",
    "plt.xlim(-10, 110)\n",
    "plt.ylim(-10, 110)\n",
    "plt.clim(min_val, max_val)\n",
    "plt.colorbar(fraction=0.046, pad=0.04)\n",
    "plt.savefig(\"../../report/graphics/task1-visited-diagonal.pdf\", bbox_inches='tight')\n",
    "plt.close()"
   ]
  },
  {
   "cell_type": "code",
   "execution_count": 56,
   "metadata": {},
   "outputs": [],
   "source": [
    "# do the difference between the two visited data\n",
    "visited_diff_np = visited_diagonal_np - visited_np\n",
    "plt.figure(figsize=(4, 4))\n",
    "plt.imshow(visited_diff_np, cmap='hot', interpolation='nearest')\n",
    "plt.xlim(-10, 110)\n",
    "plt.ylim(-10, 110)\n",
    "plt.colorbar(fraction=0.046, pad=0.04)\n",
    "plt.savefig(\"../../report/graphics/task1-visited-diff.pdf\", bbox_inches='tight')\n",
    "plt.close()"
   ]
  }
 ],
 "metadata": {
  "kernelspec": {
   "display_name": "uni-ml",
   "language": "python",
   "name": "python3"
  },
  "language_info": {
   "codemirror_mode": {
    "name": "ipython",
    "version": 3
   },
   "file_extension": ".py",
   "mimetype": "text/x-python",
   "name": "python",
   "nbconvert_exporter": "python",
   "pygments_lexer": "ipython3",
   "version": "3.10.2"
  }
 },
 "nbformat": 4,
 "nbformat_minor": 2
}
