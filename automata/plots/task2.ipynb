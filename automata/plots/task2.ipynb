{
 "cells": [
  {
   "cell_type": "code",
   "execution_count": 1,
   "metadata": {},
   "outputs": [],
   "source": [
    "import matplotlib.pyplot as plt\n",
    "import pandas as pd\n",
    "import os\n",
    "import numpy as np\n",
    "\n",
    "import matplotlib\n",
    "matplotlib.use(\"pgf\")\n",
    "matplotlib.rcParams.update({\n",
    "    \"pgf.texsystem\": \"pdflatex\",\n",
    "    'font.family': 'serif',\n",
    "    'text.usetex': True,\n",
    "    'pgf.rcfonts': False,\n",
    "})\n",
    "\n",
    "df_1 = pd.read_csv(\"../output/task2-1.csv\")\n",
    "df_2 = pd.read_csv(\"../output/task2-2.csv\")\n",
    "df_2_total = pd.read_csv(\"../output/task2-2-total.csv\")"
   ]
  },
  {
   "cell_type": "code",
   "execution_count": 2,
   "metadata": {},
   "outputs": [],
   "source": [
    "# plot the number of cells over time\n",
    "plt.figure(figsize=(8, 3))\n",
    "plt.plot(df_1['time'], df_1['cells'], label='Cells')\n",
    "plt.xlabel('Time')\n",
    "plt.ylabel('Number of Cells')\n",
    "plt.savefig('../../report/graphics/task2-1.pdf', bbox_inches='tight')\n",
    "plt.close()"
   ]
  },
  {
   "cell_type": "code",
   "execution_count": 3,
   "metadata": {},
   "outputs": [],
   "source": [
    "plt.figure(figsize=(3, 3))\n",
    "plt.plot(df_2['x'], df_2['y'], label='_task2-2', color='gray')\n",
    "plt.plot(df_2['x'][0], df_2['y'][0], 'bx', label='Start', ms=10, mew=2)\n",
    "plt.plot(df_2['x'].iloc[-1], df_2['y'].iloc[-1], 'rx', label='End', ms=10, mew=2)\n",
    "plt.xlim(25,75)\n",
    "plt.ylim(25,75)\n",
    "plt.grid()\n",
    "plt.margins(0)\n",
    "plt.legend(loc='upper left')\n",
    "plt.savefig('../../report/graphics/task2-2.pdf', bbox_inches='tight')\n",
    "plt.close()"
   ]
  },
  {
   "cell_type": "code",
   "execution_count": 4,
   "metadata": {},
   "outputs": [],
   "source": [
    "# Load all .csv file\n",
    "data = {}\n",
    "for file in os.listdir(\"../output/bulk-m\"):\n",
    "    if file.endswith(\".csv\"):\n",
    "        name = file.split(\".\")[0]\n",
    "        record = {}\n",
    "        record[\"df\"] = pd.read_csv(f\"../output/bulk-m/{file}\")\n",
    "        # log to base 10 for power\n",
    "        record[\"m\"] = int(name[8:])\n",
    "        data[name] = record\n",
    "\n",
    "for name, record in data.items():\n",
    "    dt = 0.001\n",
    "    record['df']['time'] = record['df']['time'] * dt"
   ]
  },
  {
   "cell_type": "code",
   "execution_count": 5,
   "metadata": {},
   "outputs": [],
   "source": [
    "# plot the number of cells over time for all m\n",
    "plt.figure(figsize=(8, 4))\n",
    "for name, record in data.items():\n",
    "    plt.plot(record['df']['time'], record['df']['cells'], label=('$10^{' + str(record[\"m\"]) + '}$'))\n",
    "plt.xlabel('Time')\n",
    "plt.ylabel('Number of Cells')\n",
    "plt.legend(title='Capacity')\n",
    "plt.yscale('log')\n",
    "plt.ylim(1e9, 1e17)\n",
    "plt.savefig('../../report/graphics/task2-1-m.pdf', bbox_inches='tight')"
   ]
  },
  {
   "cell_type": "code",
   "execution_count": 6,
   "metadata": {},
   "outputs": [],
   "source": [
    "# Load all .csv file\n",
    "data = {}\n",
    "for file in os.listdir(\"../output/bulk-h\"):\n",
    "    if file.endswith(\".csv\"):\n",
    "        name = file.split(\".\")[0]\n",
    "        record = {}\n",
    "        record[\"df\"] = pd.read_csv(f\"../output/bulk-h/{file}\")\n",
    "        # log to base 10 for power\n",
    "        record[\"m\"] = int(name[10:])\n",
    "        data[name] = record\n",
    "\n",
    "# scale time\n",
    "for name, record in data.items():\n",
    "    dt = 10 ** record['m']\n",
    "    record['df']['time'] = record['df']['time'] * dt"
   ]
  },
  {
   "cell_type": "code",
   "execution_count": 7,
   "metadata": {},
   "outputs": [],
   "source": [
    "# solve analytically first\n",
    "x = np.linspace(0, 1200, 2000)\n",
    "y = 10 ** (13 - (4 * (np.e ** (-0.006 * x))))\n",
    "analytical = pd.DataFrame({'time': x, 'cells': y})\n",
    "\n",
    "# plot the number of cells over time for all h\n",
    "plt.figure(figsize=(8, 4))\n",
    "for name, record in data.items():\n",
    "    plt.plot(record['df']['time'], record['df']['cells'], label=('$10^{' + str(record[\"m\"]) + '}$'))\n",
    "plt.plot(analytical['time'], analytical['cells'], label='Analytical')\n",
    "plt.xlabel('Time')\n",
    "plt.ylabel('Number of Cells')\n",
    "plt.legend(title='Dt')\n",
    "plt.savefig('../../report/graphics/task2-1-h.pdf', bbox_inches='tight')"
   ]
  },
  {
   "cell_type": "code",
   "execution_count": 8,
   "metadata": {},
   "outputs": [],
   "source": [
    "# plot again but zoomed in ar 450-550\n",
    "plt.figure(figsize=(8, 4))\n",
    "for name, record in data.items():\n",
    "    plt.plot(record['df']['time'], record['df']['cells'], label=('$10^{' + str(record[\"m\"]) + '}$'))\n",
    "plt.plot(analytical['time'], analytical['cells'], label='Analytical')\n",
    "plt.xlabel('Time')\n",
    "plt.ylabel('Number of Cells')\n",
    "plt.legend(title='Dt')\n",
    "plt.xlim(450, 550)\n",
    "plt.ylim(0.55e13, 0.65e13)\n",
    "plt.savefig('../../report/graphics/task2-1-h-zoom.pdf', bbox_inches='tight')\n",
    "plt.close()"
   ]
  },
  {
   "cell_type": "code",
   "execution_count": 9,
   "metadata": {},
   "outputs": [],
   "source": [
    "# plot the number of cells over time\n",
    "plt.figure(figsize=(8, 4))\n",
    "plt.plot(df_2_total['time'], df_2_total['cells'], label='Cells', color='gray')\n",
    "plt.xlabel('Time')\n",
    "plt.ylabel('Number of Cells')\n",
    "plt.savefig('../../report/graphics/task2-2-total.pdf', bbox_inches='tight')"
   ]
  },
  {
   "cell_type": "code",
   "execution_count": 10,
   "metadata": {},
   "outputs": [
    {
     "name": "stdout",
     "output_type": "stream",
     "text": [
      "m=8290757.139360582, c=0.10363446464054554\n"
     ]
    }
   ],
   "source": [
    "# plot the number of cells over time\n",
    "plt.figure(figsize=(8, 4))\n",
    "plt.plot(df_2_total['time'], df_2_total['cells'], label='Cells', color='gray')\n",
    "\n",
    "\n",
    "# estimate a linear fit\n",
    "x = df_2_total['time']\n",
    "y = df_2_total['cells']\n",
    "\n",
    "A = np.vstack([x, np.ones(len(x))]).T\n",
    "m, c = np.linalg.lstsq(A, y, rcond=None)[0]\n",
    "print(f\"m={m}, c={c}\")\n",
    "\n",
    "# dashed\n",
    "plt.plot(x, m*x + c, 'r', label='Fitted line', linestyle='dashed')\n",
    "\n",
    "# add text with the equation\n",
    "plt.text(0, 0.9e15, f'y = {m:.4g}x + {c:.2g}', fontsize=12)\n",
    "\n",
    "plt.xlabel('Time')\n",
    "plt.ylabel('Number of Cells')\n",
    "plt.savefig('../../report/graphics/task2-2-total-linear.pdf', bbox_inches='tight')"
   ]
  }
 ],
 "metadata": {
  "kernelspec": {
   "display_name": "uni-ml",
   "language": "python",
   "name": "python3"
  },
  "language_info": {
   "codemirror_mode": {
    "name": "ipython",
    "version": 3
   },
   "file_extension": ".py",
   "mimetype": "text/x-python",
   "name": "python",
   "nbconvert_exporter": "python",
   "pygments_lexer": "ipython3",
   "version": "3.10.2"
  }
 },
 "nbformat": 4,
 "nbformat_minor": 2
}
