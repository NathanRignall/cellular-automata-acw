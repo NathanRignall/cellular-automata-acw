{
 "cells": [
  {
   "cell_type": "code",
   "execution_count": 1,
   "metadata": {},
   "outputs": [],
   "source": [
    "import matplotlib.pyplot as plt\n",
    "import pandas as pd\n",
    "import os\n",
    "import numpy as np\n",
    "\n",
    "import matplotlib\n",
    "matplotlib.use(\"pgf\")\n",
    "matplotlib.rcParams.update({\n",
    "    \"pgf.texsystem\": \"pdflatex\",\n",
    "    'font.family': 'serif',\n",
    "    'text.usetex': True,\n",
    "    'pgf.rcfonts': False,\n",
    "})\n",
    "\n",
    "df_1 = pd.read_csv(\"../output/task2-1.csv\")\n",
    "df_2 = pd.read_csv(\"../output/task2-2.csv\")\n",
    "df_2_total = pd.read_csv(\"../output/task2-2-total.csv\")"
   ]
  },
  {
   "cell_type": "code",
   "execution_count": 2,
   "metadata": {},
   "outputs": [],
   "source": [
    "# plot the number of cells over time\n",
    "plt.figure(figsize=(8, 3))\n",
    "plt.plot(df_1['time'], df_1['cells'], label='Cells')\n",
    "plt.xlabel('Time')\n",
    "plt.ylabel('Number of Cells')\n",
    "plt.savefig('../../report/graphics/task2-1.pdf', bbox_inches='tight')\n",
    "plt.close()"
   ]
  },
  {
   "cell_type": "code",
   "execution_count": 3,
   "metadata": {},
   "outputs": [],
   "source": [
    "plt.figure(figsize=(3, 3))\n",
    "plt.plot(df_2['x'], df_2['y'], label='_task2-2', color='gray')\n",
    "plt.plot(df_2['x'][0], df_2['y'][0], 'bx', label='Start', ms=10, mew=2)\n",
    "plt.plot(df_2['x'].iloc[-1], df_2['y'].iloc[-1], 'rx', label='End', ms=10, mew=2)\n",
    "plt.xlim(25,75)\n",
    "plt.ylim(25,75)\n",
    "plt.grid()\n",
    "plt.margins(0)\n",
    "plt.legend(loc='upper left')\n",
    "plt.savefig('../../report/graphics/task2-2.pdf', bbox_inches='tight')\n",
    "plt.close()"
   ]
  },
  {
   "cell_type": "code",
   "execution_count": 4,
   "metadata": {},
   "outputs": [],
   "source": [
    "# Load all .csv file\n",
    "data = {}\n",
    "for file in os.listdir(\"../output/bulk-m\"):\n",
    "    if file.endswith(\".csv\"):\n",
    "        name = file.split(\".\")[0]\n",
    "        record = {}\n",
    "        record[\"df\"] = pd.read_csv(f\"../output/bulk-m/{file}\")\n",
    "        # log to base 10 for power\n",
    "        record[\"m\"] = int(name[8:])\n",
    "        data[name] = record\n",
    "\n",
    "for name, record in data.items():\n",
    "    dt = 0.001\n",
    "    record['df']['time'] = record['df']['time'] * dt"
   ]
  },
  {
   "cell_type": "code",
   "execution_count": 5,
   "metadata": {},
   "outputs": [
    {
     "name": "stderr",
     "output_type": "stream",
     "text": [
      "/var/folders/y0/2k6mgl4x5_db4cbjlvjsc0jw0000gn/T/ipykernel_70532/2453372918.py:10: UserWarning: Creating legend with loc=\"best\" can be slow with large amounts of data.\n",
      "  plt.savefig('../../report/graphics/task2-1-m.pdf', bbox_inches='tight')\n",
      "/var/folders/y0/2k6mgl4x5_db4cbjlvjsc0jw0000gn/T/ipykernel_70532/2453372918.py:10: UserWarning: Creating legend with loc=\"best\" can be slow with large amounts of data.\n",
      "  plt.savefig('../../report/graphics/task2-1-m.pdf', bbox_inches='tight')\n"
     ]
    }
   ],
   "source": [
    "# plot the number of cells over time for all m\n",
    "plt.figure(figsize=(8, 3))\n",
    "for name, record in data.items():\n",
    "    plt.plot(record['df']['time'], record['df']['cells'], label=('$10^{' + str(record[\"m\"]) + '}$'))\n",
    "plt.xlabel('Time')\n",
    "plt.ylabel('Number of Cells')\n",
    "plt.legend(title='Capacity')\n",
    "plt.yscale('log')\n",
    "plt.ylim(1e9, 1e17)\n",
    "plt.savefig('../../report/graphics/task2-1-m.pdf', bbox_inches='tight')"
   ]
  },
  {
   "cell_type": "code",
   "execution_count": 14,
   "metadata": {},
   "outputs": [
    {
     "name": "stdout",
     "output_type": "stream",
     "text": [
      "h & Error\n",
      "100 & 66.69\\% \\\\\n",
      "10 & 5.296\\% \\\\\n",
      "1 & 0.5238\\% \\\\\n",
      "0.1 & 0.05233\\% \\\\\n",
      "0.01 & 0.005233\\% \\\\\n",
      "0.001 & 0.0005239\\% \\\\\n",
      "0.0001 & 5.82e-05\\% \\\\\n",
      "Analytical & 0.0 \\\\\n",
      "\n"
     ]
    }
   ],
   "source": [
    "# Load all .csv file\n",
    "data = {}\n",
    "for file in os.listdir(\"../output/bulk-h\"):\n",
    "    if file.endswith(\".csv\"):\n",
    "        name = file.split(\".\")[0]\n",
    "        record = {}\n",
    "        record[\"df\"] = pd.read_csv(f\"../output/bulk-h/{file}\")\n",
    "        # log to base 10 for power\n",
    "        record[\"h\"] = int(name[10:])\n",
    "        data[name] = record\n",
    "\n",
    "# scale time\n",
    "for name, record in data.items():\n",
    "    dt = 10 ** record['h']\n",
    "    record['df']['time'] = record['df']['time'] * dt\n",
    "\n",
    "# sort by h\n",
    "data = dict(sorted(data.items(), key=lambda x: x[1]['h'], reverse=True))\n",
    "\n",
    "# solve analytically first\n",
    "x = np.linspace(0, 1200, 2000)\n",
    "y = 10 ** (13 - (4 * (np.e ** (-0.006 * x))))\n",
    "analytical = pd.DataFrame({'time': x, 'cells': y})\n",
    "\n",
    "# calculate the error to the analytical solution for all h using root mean square percentage error\n",
    "for name, record in data.items():\n",
    "    record['error'] = np.sqrt(np.mean((record['df']['cells'] - np.interp(record['df']['time'], analytical['time'], analytical['cells'])) ** 2)) / np.mean(record['df']['cells']) * 100\n",
    "\n",
    "# print in table format\n",
    "print(\"h & Error\")\n",
    "for name, record in data.items():\n",
    "    # round to 5 significant figures\n",
    "    print(f\"{10 ** record['h']} & {record['error']:.4}\\% \\\\\\\\\")\n",
    "print(\"Analytical & 0.0 \\\\\\\\\")\n",
    "print()\n",
    "    "
   ]
  },
  {
   "cell_type": "code",
   "execution_count": 7,
   "metadata": {},
   "outputs": [],
   "source": [
    "\n",
    "# plot the number of cells over time for all h\n",
    "plt.figure(figsize=(8, 3))\n",
    "for name, record in data.items():\n",
    "    plt.plot(record['df']['time'], record['df']['cells'], label=f'{10 ** record[\"h\"]}')\n",
    "plt.plot(analytical['time'], analytical['cells'], label='Analytical')\n",
    "plt.xlabel('Time')\n",
    "plt.ylabel('Number of Cells')\n",
    "plt.legend(title='Dt')\n",
    "plt.savefig('../../report/graphics/task2-1-h.pdf', bbox_inches='tight')"
   ]
  },
  {
   "cell_type": "code",
   "execution_count": 8,
   "metadata": {},
   "outputs": [],
   "source": [
    "# plot again but zoomed in ar 450-550\n",
    "plt.figure(figsize=(8, 3))\n",
    "for name, record in data.items():\n",
    "    plt.plot(record['df']['time'], record['df']['cells'], label=f'{10 ** record[\"h\"]}')\n",
    "plt.plot(analytical['time'], analytical['cells'], label='Analytical')\n",
    "plt.xlabel('Time')\n",
    "plt.ylabel('Number of Cells')\n",
    "plt.legend(title='Dt')\n",
    "plt.xlim(450, 550)\n",
    "plt.ylim(0.55e13, 0.65e13)\n",
    "plt.savefig('../../report/graphics/task2-1-h-zoom.pdf', bbox_inches='tight')\n",
    "plt.close()"
   ]
  },
  {
   "cell_type": "code",
   "execution_count": 9,
   "metadata": {},
   "outputs": [],
   "source": [
    "# plot the number of cells over time\n",
    "plt.figure(figsize=(8, 3))\n",
    "plt.plot(df_2_total['time'], df_2_total['cells'], label='Cells', color='gray')\n",
    "plt.xlabel('Time')\n",
    "plt.ylabel('Number of Cells')\n",
    "plt.savefig('../../report/graphics/task2-2-total.pdf', bbox_inches='tight')"
   ]
  },
  {
   "cell_type": "code",
   "execution_count": 10,
   "metadata": {},
   "outputs": [
    {
     "name": "stdout",
     "output_type": "stream",
     "text": [
      "m=8290757.139360582, c=0.10363446464054554\n"
     ]
    }
   ],
   "source": [
    "# plot the number of cells over time\n",
    "plt.figure(figsize=(8, 3))\n",
    "plt.plot(df_2_total['time'], df_2_total['cells'], label='Cells', color='gray')\n",
    "\n",
    "\n",
    "# estimate a linear fit\n",
    "x = df_2_total['time']\n",
    "y = df_2_total['cells']\n",
    "\n",
    "A = np.vstack([x, np.ones(len(x))]).T\n",
    "m, c = np.linalg.lstsq(A, y, rcond=None)[0]\n",
    "print(f\"m={m}, c={c}\")\n",
    "\n",
    "# dashed\n",
    "plt.plot(x, m*x + c, 'r', label='Fitted line', linestyle='dashed')\n",
    "\n",
    "# add text with the equation\n",
    "plt.text(0, 0.9e15, f'y = {m:.4g}x + {c:.2g}', fontsize=12)\n",
    "\n",
    "plt.xlabel('Time')\n",
    "plt.ylabel('Number of Cells')\n",
    "plt.savefig('../../report/graphics/task2-2-total-linear.pdf', bbox_inches='tight')"
   ]
  },
  {
   "cell_type": "code",
   "execution_count": 13,
   "metadata": {},
   "outputs": [
    {
     "name": "stdout",
     "output_type": "stream",
     "text": [
      "2000\n",
      "1800\n",
      "1200\n",
      "1000\n",
      "1400\n",
      "1600\n",
      "T & Cells & \\% Full \\\\\n",
      "2000 & 1.00e+13 & 0.9999\\% \\\\\n",
      "1800 & 1.00e+13 & 0.9998\\% \\\\\n",
      "1600 & 9.99e+12 & 0.9994\\% \\\\\n",
      "1400 & 9.98e+12 & 0.9979\\% \\\\\n",
      "1200 & 9.93e+12 & 0.9931\\% \\\\\n",
      "1000 & 9.77e+12 & 0.9774\\% \\\\\n",
      "\n"
     ]
    }
   ],
   "source": [
    "# Load all .csv file\n",
    "data = {}\n",
    "for file in os.listdir(\"../output/bulk-t\"):\n",
    "    if file.endswith(\".csv\"):\n",
    "        name = file.split(\".\")[0]\n",
    "        record = {}\n",
    "        record[\"df\"] = pd.read_csv(f\"../output/bulk-t/{file}\")\n",
    "        record[\"t\"] = int(name[8:])\n",
    "        print(record[\"t\"])\n",
    "        data[name] = record\n",
    "\n",
    "# scale time\n",
    "for name, record in data.items():\n",
    "    dt = 0.001\n",
    "    record['df']['time'] = record['df']['time'] * dt\n",
    "\n",
    "# sort by t (in reverse order)\n",
    "data = dict(sorted(data.items(), key=lambda x: x[1]['t'], reverse=True))\n",
    "\n",
    "# get the final number of cells for each t\n",
    "final_cells = []\n",
    "for name, record in data.items():\n",
    "    final_cells.append(record['df']['cells'].iloc[-1])\n",
    "\n",
    "# calculate the percentage full using 10^13 as the full capacity\n",
    "full_capacity = 10 ** 13\n",
    "percentage_full = [x / full_capacity for x in final_cells]\n",
    "\n",
    "# print in table format\n",
    "print(\"T & Cells & \\% Full \\\\\\\\\")\n",
    "for i, (name, record) in enumerate(data.items()):\n",
    "    print(f\"{record['t']} & {final_cells[i]:.2e} & {percentage_full[i]:.4f}\\% \\\\\\\\\")\n",
    "print()\n"
   ]
  },
  {
   "cell_type": "code",
   "execution_count": 12,
   "metadata": {},
   "outputs": [],
   "source": [
    "plt.figure(figsize=(8, 3))\n",
    "for name, record in data.items():\n",
    "    plt.plot(record['df']['time'], record['df']['cells'], label=record[\"t\"])\n",
    "plt.xlabel('Time')\n",
    "plt.ylabel('Number of Cells')\n",
    "plt.yscale('log')\n",
    "plt.savefig('../../report/graphics/task2-1-t.pdf', bbox_inches='tight')"
   ]
  }
 ],
 "metadata": {
  "kernelspec": {
   "display_name": "uni-ml",
   "language": "python",
   "name": "python3"
  },
  "language_info": {
   "codemirror_mode": {
    "name": "ipython",
    "version": 3
   },
   "file_extension": ".py",
   "mimetype": "text/x-python",
   "name": "python",
   "nbconvert_exporter": "python",
   "pygments_lexer": "ipython3",
   "version": "3.10.2"
  }
 },
 "nbformat": 4,
 "nbformat_minor": 2
}
